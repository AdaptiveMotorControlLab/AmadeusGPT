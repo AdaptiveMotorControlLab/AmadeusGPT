{
 "cells": [
  {
   "cell_type": "code",
   "execution_count": null,
   "id": "7829458f",
   "metadata": {},
   "outputs": [],
   "source": [
    "#If th openai api key is not set already, please set it here.\n",
    "import os\n",
    "if 'OPENAI_API_KEY' not in os.environ:  \n",
    "     os.environ['OPENAI_API_KEY'] = 'your key'"
   ]
  },
  {
   "cell_type": "code",
   "execution_count": null,
   "id": "bceb3204-2a87-4671-8135-2533a7a51771",
   "metadata": {},
   "outputs": [],
   "source": [
    "from amadeusgpt import AMADEUS\n",
    "from amadeusgpt.config import Config\n",
    "import amadeusgpt\n",
    "from amadeusgpt.utils import parse_result\n",
    "from pathlib import Path\n",
    "import matplotlib.pyplot as plt\n",
    "from amadeusgpt import create_project"
   ]
  },
  {
   "cell_type": "code",
   "execution_count": null,
   "id": "94210808-364c-44a9-a548-b600e75c5c25",
   "metadata": {},
   "outputs": [],
   "source": [
    "amadeus_root = Path(amadeusgpt.__file__).parent.parent\n",
    "\n",
    "kwargs = {\n",
    "    \"keypoint_info.body_orientation_keypoints.neck\" : \"nose\",\n",
    "    \"keypoint_info.body_orientation_keypoints.tail_base\" : \"tail base\",\n",
    "    \"keypoint_info.body_orientation_keypoints.animal_center\" : \"neck\",\n",
    "    \"keypoint_info.head_orientation_keypoints.nose\" : \"nose\",\n",
    "    \"keypoint_info.head_orientation_keypoints.neck\" : \"neck\",\n",
    "    \"video_info.scene_frame_number\" : 1400,\n",
    "}\n",
    "\n",
    "config = create_project(data_folder = \"../examples/MABe\",\n",
    "                        result_folder = \"results\",\n",
    "                        **kwargs\n",
    "                        )\n",
    "\n",
    "amadeus = AMADEUS(config, use_vlm=True)\n",
    "video_file_paths = amadeus.get_video_file_paths()\n",
    "print (video_file_paths)"
   ]
  },
  {
   "cell_type": "code",
   "execution_count": null,
   "id": "1ff31a2b",
   "metadata": {},
   "outputs": [],
   "source": [
    "behavior_analysis = amadeus.get_behavior_analysis(video_file_path='../examples/MABe/EGS8X2MN4SSUGFWAV976.mp4',\n",
    "                                                  keypoint_file_path='../examples/MABe/EGS8X2MN4SSUGFWAV976.h5')\n",
    "scene_image = behavior_analysis.visual_manager.get_scene_image()\n",
    "plt.imshow(scene_image)"
   ]
  },
  {
   "cell_type": "code",
   "execution_count": null,
   "id": "d28b3f10-ecba-4ecf-a283-142d2d43ea8f",
   "metadata": {},
   "outputs": [],
   "source": [
    "query = \"Define watch as a social behavior where distance between animals is less than 260  \\\n",
    "and larger than 50 and head angle between animals is less than 15. The smooth_window_size is 15. Get watching\"\n",
    "qa_message = amadeus.step(query)\n",
    "qa_message = parse_result(amadeus, qa_message)"
   ]
  },
  {
   "cell_type": "markdown",
   "id": "843106fa",
   "metadata": {},
   "source": [
    "### You can get a list of binary masks (equivalent to ethogram) for the underlying behavior, if your query is about retriving a described behavior"
   ]
  },
  {
   "cell_type": "code",
   "execution_count": null,
   "id": "e446b66d-a791-4f18-9a72-8542f4a83081",
   "metadata": {},
   "outputs": [],
   "source": [
    "# the return masks is of shape (num_of_events, video_length)\n",
    "# where each boolean array of (video_length,) is binary where True indicates whether the behavior is happening at that frame\n",
    "masks = qa_message.get_masks()\n",
    "print (masks)"
   ]
  },
  {
   "cell_type": "code",
   "execution_count": null,
   "id": "34f200b8",
   "metadata": {},
   "outputs": [],
   "source": []
  }
 ],
 "metadata": {
  "kernelspec": {
   "display_name": "amadeusgpt-minimal",
   "language": "python",
   "name": "python3"
  },
  "language_info": {
   "codemirror_mode": {
    "name": "ipython",
    "version": 3
   },
   "file_extension": ".py",
   "mimetype": "text/x-python",
   "name": "python",
   "nbconvert_exporter": "python",
   "pygments_lexer": "ipython3",
   "version": "3.10.0"
  }
 },
 "nbformat": 4,
 "nbformat_minor": 5
}
