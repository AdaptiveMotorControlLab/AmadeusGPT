{
 "cells": [
  {
   "cell_type": "code",
   "execution_count": null,
   "id": "f01f49c5",
   "metadata": {},
   "outputs": [],
   "source": [
    "#If th openai api key is not set already, please set it here.\n",
    "import os\n",
    "if 'OPENAI_API_KEY' not in os.environ:  \n",
    "     os.environ['OPENAI_API_KEY'] = 'your key'"
   ]
  },
  {
   "cell_type": "code",
   "execution_count": null,
   "id": "bceb3204-2a87-4671-8135-2533a7a51771",
   "metadata": {},
   "outputs": [],
   "source": [
    "from amadeusgpt.main import AMADEUS\n",
    "from amadeusgpt.config import Config\n",
    "import amadeusgpt\n",
    "from pathlib import Path\n",
    "import matplotlib.pyplot as plt\n",
    "import cv2"
   ]
  },
  {
   "cell_type": "code",
   "execution_count": null,
   "id": "94210808-364c-44a9-a548-b600e75c5c25",
   "metadata": {},
   "outputs": [],
   "source": [
    "video_path = \"/mnt/md0/shaokai/mouse_vid.mpg\"\n",
    "scene_frame_number = 400\n",
    "cap = cv2.VideoCapture(video_path)\n",
    "\n",
    "# Check if video opened successfully\n",
    "if not cap.isOpened():\n",
    "    print(\"Error: Could not open video.\")\n",
    "else:\n",
    "    # Set the frame position\n",
    "    cap.set(cv2.CAP_PROP_POS_FRAMES, scene_frame_number)\n",
    "    # Read the frame\n",
    "    ret, image = cap.read()\n",
    "\n",
    "    image = cv2.cvtColor(image, cv2.COLOR_BGR2RGB)\n",
    "cap.release()\n",
    "plt.imshow(image)\n",
    "    "
   ]
  },
  {
   "cell_type": "markdown",
   "id": "603f97b9",
   "metadata": {},
   "source": [
    "### Note that unlike other notebooks, we don't have keypoint_file_path here (as it's not provided)\n",
    "### By default, we use gpt-4o to determine which SuperAnimal models to run and it will run SuperAnimal in the first time the keypoints related queries are asked\n",
    "### Make sure you use a short video clips if you are not using GPUs in Linux (Mac silicon support to be added)"
   ]
  },
  {
   "cell_type": "code",
   "execution_count": null,
   "id": "be76dc87-fbe8-452f-b85c-2af3e95a03bf",
   "metadata": {},
   "outputs": [],
   "source": [
    "amadeus_root = Path(amadeusgpt.__file__).parent.parent\n",
    "config = Config( amadeus_root / \"amadeusgpt/configs/template.yaml\")\n",
    "config['video_info']['video_file_path'] = video_path\n",
    "config['video_info']['scene_frame_number'] = scene_frame_number\n",
    "print (config)\n",
    "amadeus = AMADEUS(config)"
   ]
  },
  {
   "cell_type": "code",
   "execution_count": null,
   "id": "59edc48e-cc37-4c42-a7f0-a0c7f6d3cd95",
   "metadata": {},
   "outputs": [],
   "source": [
    "from IPython.display import Markdown, display\n",
    "def parse_result(amadeus, qa_message):\n",
    "    display(Markdown(qa_message['chain_of_thought']))\n",
    "    sandbox = amadeus.sandbox\n",
    "    qa_message = sandbox.code_execution(qa_message)\n",
    "    sandbox.render_qa_message(qa_message)\n",
    "    print ('after executing the function')\n",
    "    display(qa_message['meta_info'])\n",
    "    print(qa_message['pose_video'])\n",
    "    display(Markdown(str(qa_message['function_rets'])))"
   ]
  },
  {
   "cell_type": "code",
   "execution_count": null,
   "id": "d28b3f10-ecba-4ecf-a283-142d2d43ea8f",
   "metadata": {},
   "outputs": [],
   "source": [
    "query = \"Plot the trajectory of the animal using the animal center and color it by time\"\n",
    "qa_message = amadeus.step(query)\n",
    "parse_result(amadeus, qa_message)"
   ]
  },
  {
   "cell_type": "code",
   "execution_count": null,
   "id": "1ea38d91-3bd1-448c-b395-9524891e6567",
   "metadata": {},
   "outputs": [],
   "source": [
    "query = \"give me the occupancy plot using the animal center\"\n",
    "qa_message = amadeus.step(query)\n",
    "parse_result(amadeus, qa_message)"
   ]
  },
  {
   "cell_type": "code",
   "execution_count": null,
   "id": "e446b66d-a791-4f18-9a72-8542f4a83081",
   "metadata": {},
   "outputs": [],
   "source": []
  }
 ],
 "metadata": {
  "kernelspec": {
   "display_name": "amadeusgpt-gpu",
   "language": "python",
   "name": "amadeusgpt-gpu"
  },
  "language_info": {
   "codemirror_mode": {
    "name": "ipython",
    "version": 3
   },
   "file_extension": ".py",
   "mimetype": "text/x-python",
   "name": "python",
   "nbconvert_exporter": "python",
   "pygments_lexer": "ipython3",
   "version": "3.10.0"
  }
 },
 "nbformat": 4,
 "nbformat_minor": 5
}
