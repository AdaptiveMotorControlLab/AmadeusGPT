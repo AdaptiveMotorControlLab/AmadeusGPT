{
 "cells": [
  {
   "cell_type": "code",
   "execution_count": null,
   "id": "f01f49c5",
   "metadata": {},
   "outputs": [],
   "source": [
    "#If th openai api key is not set already, please set it here.\n",
    "import os\n",
    "if 'OPENAI_API_KEY' not in os.environ:  \n",
    "     os.environ['OPENAI_API_KEY'] = 'your key'"
   ]
  },
  {
   "cell_type": "code",
   "execution_count": null,
   "id": "bceb3204-2a87-4671-8135-2533a7a51771",
   "metadata": {},
   "outputs": [],
   "source": [
    "from amadeusgpt import AMADEUS\n",
    "from amadeusgpt.config import Config\n",
    "from amadeusgpt.utils import parse_result\n",
    "import amadeusgpt\n",
    "from amadeusgpt import create_project\n",
    "import matplotlib.pyplot as plt\n",
    "import cv2"
   ]
  },
  {
   "cell_type": "markdown",
   "id": "603f97b9",
   "metadata": {},
   "source": [
    "### Note that unlike other notebooks, we don't have keypoint_file_path here (as it's not provided)\n",
    "### By default, we use gpt-4o to determine which SuperAnimal models to run and it will run SuperAnimal in the first time the keypoints related queries are asked\n",
    "### Make sure you use a short video clips if you are not using GPUs in Linux (Mac silicon support to be added)"
   ]
  },
  {
   "cell_type": "code",
   "execution_count": null,
   "id": "be76dc87-fbe8-452f-b85c-2af3e95a03bf",
   "metadata": {},
   "outputs": [],
   "source": [
    "scene_frame_number = 400\n",
    "\n",
    "# where you store you video and (optionally) keypoint files\n",
    "data_folder = \"temp_data_folder\"\n",
    "result_folder = \"temp_result_folder\"\n",
    "video_suffix = \".mp4\"\n",
    "\n",
    "config = create_project(data_folder, result_folder, video_suffix = video_suffix)\n",
    "\n",
    "config[\"scene_frame_number\"] = scene_frame_number\n",
    "\n",
    "amadeus = AMADEUS(config, use_vlm = True)\n",
    "video_file_paths = amadeus.get_video_file_paths()\n",
    "print (video_file_paths)"
   ]
  },
  {
   "cell_type": "code",
   "execution_count": null,
   "id": "d28b3f10-ecba-4ecf-a283-142d2d43ea8f",
   "metadata": {},
   "outputs": [],
   "source": [
    "query = \"Plot the trajectory of the animal using the animal center and color it by time\"\n",
    "qa_message = amadeus.step(query)\n",
    "parse_result(amadeus, qa_message)"
   ]
  },
  {
   "cell_type": "code",
   "execution_count": null,
   "id": "1ea38d91-3bd1-448c-b395-9524891e6567",
   "metadata": {},
   "outputs": [],
   "source": [
    "query = \"give me the occupancy plot using the animal center\"\n",
    "qa_message = amadeus.step(query)\n",
    "qa_message = parse_result(amadeus, qa_message)"
   ]
  }
 ],
 "metadata": {
  "kernelspec": {
   "display_name": "amadeusgpt-cpu",
   "language": "python",
   "name": "amadeusgpt-cpu"
  },
  "language_info": {
   "codemirror_mode": {
    "name": "ipython",
    "version": 3
   },
   "file_extension": ".py",
   "mimetype": "text/x-python",
   "name": "python",
   "nbconvert_exporter": "python",
   "pygments_lexer": "ipython3",
   "version": "3.10.0"
  }
 },
 "nbformat": 4,
 "nbformat_minor": 5
}
