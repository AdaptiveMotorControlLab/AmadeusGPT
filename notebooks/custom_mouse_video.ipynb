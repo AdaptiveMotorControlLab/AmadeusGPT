{
 "cells": [
  {
   "cell_type": "code",
   "execution_count": 1,
   "id": "f01f49c5",
   "metadata": {},
   "outputs": [],
   "source": [
    "#If th openai api key is not set already, please set it here.\n",
    "import os\n",
    "if 'OPENAI_API_KEY' not in os.environ:  \n",
    "     os.environ['OPENAI_API_KEY'] = 'your key'"
   ]
  },
  {
   "cell_type": "code",
   "execution_count": 2,
   "id": "bceb3204-2a87-4671-8135-2533a7a51771",
   "metadata": {},
   "outputs": [],
   "source": [
    "from amadeusgpt import AMADEUS\n",
    "from amadeusgpt.config import Config\n",
    "from amadeusgpt.utils import parse_result\n",
    "import amadeusgpt\n",
    "from amadeusgpt import create_project\n",
    "import matplotlib.pyplot as plt\n",
    "import cv2"
   ]
  },
  {
   "cell_type": "markdown",
   "id": "603f97b9",
   "metadata": {},
   "source": [
    "### Note that unlike other notebooks, we don't have keypoint_file_path here (as it's not provided)\n",
    "### By default, we use gpt-4o to determine which SuperAnimal models to run and it will run SuperAnimal in the first time the keypoints related queries are asked\n",
    "### Make sure you use a short video clips if you are not using GPUs in Linux (Mac silicon support to be added)"
   ]
  },
  {
   "cell_type": "code",
   "execution_count": 3,
   "id": "be76dc87-fbe8-452f-b85c-2af3e95a03bf",
   "metadata": {},
   "outputs": [
    {
     "name": "stdout",
     "output_type": "stream",
     "text": [
      "Project created at temp_result_folder. Results will be saved to temp_result_folder\n",
      "The project will load video files (*..mp4) and optionally keypoint files from temp_data_folder\n",
      "A copy of the project config file is saved at temp_result_folder/config.yaml\n",
      "{'data_info': {'data_folder': 'temp_data_folder',\n",
      "               'result_folder': 'temp_result_folder',\n",
      "               'video_suffix': '.mp4'},\n",
      " 'llm_info': {'max_tokens': 4096, 'temperature': 1.0}}\n",
      "No video files found in the data folder temp_data_folder. Please check the data folder and the video suffix\n"
     ]
    },
    {
     "ename": "AttributeError",
     "evalue": "'AMADEUS' object has no attribute 'sandbox'",
     "output_type": "error",
     "traceback": [
      "\u001b[0;31m---------------------------------------------------------------------------\u001b[0m",
      "\u001b[0;31mAttributeError\u001b[0m                            Traceback (most recent call last)",
      "Cell \u001b[0;32mIn[3], line 13\u001b[0m\n\u001b[1;32m     10\u001b[0m config[\u001b[38;5;124m\"\u001b[39m\u001b[38;5;124mscene_frame_number\u001b[39m\u001b[38;5;124m\"\u001b[39m] \u001b[38;5;241m=\u001b[39m scene_frame_number\n\u001b[1;32m     12\u001b[0m amadeus \u001b[38;5;241m=\u001b[39m AMADEUS(config)\n\u001b[0;32m---> 13\u001b[0m video_file_paths \u001b[38;5;241m=\u001b[39m \u001b[43mamadeus\u001b[49m\u001b[38;5;241;43m.\u001b[39;49m\u001b[43mget_video_file_paths\u001b[49m\u001b[43m(\u001b[49m\u001b[43m)\u001b[49m\n\u001b[1;32m     14\u001b[0m \u001b[38;5;28mprint\u001b[39m (video_file_paths)\n",
      "File \u001b[0;32m~/AmadeusGPT-dev/amadeusgpt/main.py:121\u001b[0m, in \u001b[0;36mAMADEUS.get_video_file_paths\u001b[0;34m(self)\u001b[0m\n\u001b[1;32m    120\u001b[0m \u001b[38;5;28;01mdef\u001b[39;00m \u001b[38;5;21mget_video_file_paths\u001b[39m(\u001b[38;5;28mself\u001b[39m) \u001b[38;5;241m-\u001b[39m\u001b[38;5;241m>\u001b[39m \u001b[38;5;28mlist\u001b[39m[\u001b[38;5;28mstr\u001b[39m]:\n\u001b[0;32m--> 121\u001b[0m     \u001b[38;5;28;01mreturn\u001b[39;00m \u001b[38;5;28;43mself\u001b[39;49m\u001b[38;5;241;43m.\u001b[39;49m\u001b[43msandbox\u001b[49m\u001b[38;5;241m.\u001b[39mvideo_file_paths\n",
      "\u001b[0;31mAttributeError\u001b[0m: 'AMADEUS' object has no attribute 'sandbox'"
     ]
    }
   ],
   "source": [
    "scene_frame_number = 400\n",
    "\n",
    "# where you store you video and (optionally) keypoint files\n",
    "data_folder = \"temp_data_folder\"\n",
    "result_folder = \"temp_result_folder\"\n",
    "video_suffix = \".mp4\"\n",
    "\n",
    "config = create_project(data_folder, result_folder, video_suffix = video_suffix)\n",
    "\n",
    "config[\"scene_frame_number\"] = scene_frame_number\n",
    "\n",
    "amadeus = AMADEUS(config)\n",
    "video_file_paths = amadeus.get_video_file_paths()\n",
    "print (video_file_paths)"
   ]
  },
  {
   "cell_type": "code",
   "execution_count": null,
   "id": "d28b3f10-ecba-4ecf-a283-142d2d43ea8f",
   "metadata": {},
   "outputs": [],
   "source": [
    "query = \"Plot the trajectory of the animal using the animal center and color it by time\"\n",
    "qa_message = amadeus.step(query)\n",
    "parse_result(amadeus, qa_message)"
   ]
  },
  {
   "cell_type": "code",
   "execution_count": null,
   "id": "1ea38d91-3bd1-448c-b395-9524891e6567",
   "metadata": {},
   "outputs": [],
   "source": [
    "query = \"give me the occupancy plot using the animal center\"\n",
    "qa_message = amadeus.step(query)\n",
    "qa_message = parse_result(amadeus, qa_message)"
   ]
  }
 ],
 "metadata": {
  "kernelspec": {
   "display_name": "amadeusgpt-cpu",
   "language": "python",
   "name": "amadeusgpt-cpu"
  },
  "language_info": {
   "codemirror_mode": {
    "name": "ipython",
    "version": 3
   },
   "file_extension": ".py",
   "mimetype": "text/x-python",
   "name": "python",
   "nbconvert_exporter": "python",
   "pygments_lexer": "ipython3",
   "version": "3.10.0"
  }
 },
 "nbformat": 4,
 "nbformat_minor": 5
}
