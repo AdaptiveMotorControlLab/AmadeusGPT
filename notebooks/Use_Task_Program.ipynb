{
 "cells": [
  {
   "cell_type": "markdown",
   "metadata": {},
   "source": [
    "### initialize a config"
   ]
  },
  {
   "cell_type": "code",
   "execution_count": null,
   "metadata": {},
   "outputs": [],
   "source": [
    "from amadeusgpt import AMADEUS\n",
    "from amadeusgpt.config import Config\n",
    "import amadeusgpt\n",
    "from amadeusgpt.utils import parse_result\n",
    "from pathlib import Path\n",
    "import matplotlib.pyplot as plt\n",
    "import cv2\n",
    "from amadeusgpt.behavior_analysis.identifier import Identifier\n",
    "from amadeusgpt.programs.task_program_registry import TaskProgramLibrary"
   ]
  },
  {
   "cell_type": "code",
   "execution_count": null,
   "metadata": {},
   "outputs": [],
   "source": [
    "amadeus_root = Path(amadeusgpt.__file__).parent.parent\n",
    "config = Config(amadeus_root / \"amadeusgpt/configs/MABe_template.yaml\")\n",
    "config['data_info']['data_folder'] = amadeus_root / config['data_info']['data_folder']\n",
    "\n",
    "amadeus = AMADEUS(config)\n",
    "video_file_paths = amadeus.get_video_file_paths()\n",
    "print (video_file_paths)"
   ]
  },
  {
   "cell_type": "markdown",
   "metadata": {},
   "source": [
    "### Register a new task program into the library"
   ]
  },
  {
   "cell_type": "code",
   "execution_count": null,
   "metadata": {},
   "outputs": [],
   "source": [
    "@TaskProgramLibrary.register_task_program(creator=\"human\")\n",
    "def get_approach_events(identifier : Identifier):\n",
    "    \"\"\"\n",
    "    This task program describes the approach events between any pair of two animals.\n",
    "    \"\"\"\n",
    "    # behavior_analysis was defined in the namespace. Just take this as syntax\n",
    "    analysis = create_analysis(identifier)    \n",
    "    orientation_events = analysis.event_manager.get_animals_animals_events(['relative_head_angle <= 30'])\n",
    "                                                                \n",
    "\n",
    "    close_events = analysis.event_manager.get_animals_animals_events(['distance < 300', 'relative_speed > 0.0'])\n",
    "\n",
    "        \n",
    "    speed_events = analysis.event_manager.get_animals_state_events(\"speed > 0.1\")\n",
    "\n",
    "\n",
    "    close_speed_events = analysis.event_manager.get_composite_events(close_events,\n",
    "                                                                    speed_events,\n",
    "                                                                    \"logical_and\")\n",
    "    \n",
    "    approach_events = analysis.event_manager.get_composite_events(close_speed_events,\n",
    "                                                                    orientation_events,\n",
    "                                                                    \"logical_and\")\n",
    "    \n",
    "  \n",
    "    return approach_events"
   ]
  },
  {
   "cell_type": "code",
   "execution_count": null,
   "metadata": {},
   "outputs": [],
   "source": [
    "@TaskProgramLibrary.register_task_program(creator=\"human\")\n",
    "def get_corner_events(identifier : Identifier):\n",
    "    # behavior_analysis is already defined in the namespace\n",
    "    analysis = create_analysis(identifier)\n",
    "    roi0_events = analysis.event_manager.get_animals_object_events('ROI0', 'overlap==True')\n",
    "    roi1_events = analysis.event_manager.get_animals_object_events('ROI1', 'overlap==True')\n",
    "    roi2_events = analysis.event_manager.get_animals_object_events('ROI2', 'overlap==True')\n",
    "    roi3_events = analysis.event_manager.get_animals_object_events('ROI3', 'overlap==True')\n",
    "    roi0_or_1_events = analysis.event_manager.get_composite_events(roi0_events, roi1_events, 'logical_or')\n",
    "    roi2_or_3_events = analysis.event_manager.get_composite_events(roi2_events, roi3_events, 'logical_or')\n",
    "    corner_events = analysis.event_manager.get_composite_events(roi0_or_1_events, roi2_or_3_events, 'logical_or')\n",
    "    return corner_events"
   ]
  },
  {
   "cell_type": "code",
   "execution_count": null,
   "metadata": {},
   "outputs": [],
   "source": [
    "amadeus = AMADEUS(config)"
   ]
  },
  {
   "cell_type": "code",
   "execution_count": null,
   "metadata": {},
   "outputs": [],
   "source": [
    "behavior_analysis = amadeus.get_behavior_analysis(video_file_path='/Users/shaokaiye/AmadeusGPT-dev/examples/MABe/EGS8X2MN4SSUGFWAV976.mp4')\n",
    "scene_image = behavior_analysis.visual_manager.get_scene_image()\n",
    "plt.imshow(scene_image)"
   ]
  },
  {
   "cell_type": "code",
   "execution_count": null,
   "metadata": {},
   "outputs": [],
   "source": [
    "qa_message = amadeus.run_task_program('get_approach_events')\n",
    "parse_result(amadeus, qa_message)"
   ]
  },
  {
   "cell_type": "code",
   "execution_count": null,
   "metadata": {},
   "outputs": [],
   "source": [
    "amadeus.save_results()"
   ]
  },
  {
   "cell_type": "code",
   "execution_count": null,
   "metadata": {},
   "outputs": [],
   "source": [
    "amadeus.load_results()"
   ]
  }
 ],
 "metadata": {
  "kernelspec": {
   "display_name": "Python 3 (ipykernel)",
   "language": "python",
   "name": "python3"
  },
  "language_info": {
   "codemirror_mode": {
    "name": "ipython",
    "version": 3
   },
   "file_extension": ".py",
   "mimetype": "text/x-python",
   "name": "python",
   "nbconvert_exporter": "python",
   "pygments_lexer": "ipython3",
   "version": "3.10.0"
  }
 },
 "nbformat": 4,
 "nbformat_minor": 4
}
