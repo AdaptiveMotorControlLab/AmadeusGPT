{
  "cells": [
    {
      "cell_type": "markdown",
      "source": [
        "# AmadeusGPT Demo: Elevated Plus Maze\n",
        "\n",
        "- please get an openAI user key: https://platform.openai.com/api-keys.\n",
        "- We suggest to run the demos locally, but it can be viewed on Google Colab. Some interactive features might not be available."
      ],
      "metadata": {
        "id": "ucAO18VGki49"
      },
      "id": "ucAO18VGki49"
    },
    {
      "cell_type": "code",
      "source": [
        "!pip install --pre amadeusgpt"
      ],
      "metadata": {
        "id": "G1T_fMhMk-eL"
      },
      "id": "G1T_fMhMk-eL",
      "execution_count": null,
      "outputs": []
    },
    {
      "cell_type": "code",
      "source": [
        "import amadeusgpt"
      ],
      "metadata": {
        "id": "60BDrTbvq52n"
      },
      "id": "60BDrTbvq52n",
      "execution_count": null,
      "outputs": []
    },
    {
      "cell_type": "markdown",
      "source": [
        "- Let's test that your open AI API Key works:"
      ],
      "metadata": {
        "id": "OfCVzMfZpoLm"
      },
      "id": "OfCVzMfZpoLm"
    },
    {
      "cell_type": "code",
      "source": [
        "mykey = \"paste-your-key-here\""
      ],
      "metadata": {
        "id": "y4EfAARMqMUU"
      },
      "id": "y4EfAARMqMUU",
      "execution_count": null,
      "outputs": []
    },
    {
      "cell_type": "code",
      "source": [
        "from openai import OpenAI\n",
        "\n",
        "client = OpenAI(api_key=mykey)\n",
        "\n",
        "response = client.chat.completions.create(\n",
        "    model=\"gpt-4\",\n",
        "    messages=[{\"role\": \"user\", \"content\": \"Hello\"}]\n",
        ")\n",
        "print(response.choices[0].message.content)"
      ],
      "metadata": {
        "id": "IbperdFZpnLn"
      },
      "id": "IbperdFZpnLn",
      "execution_count": null,
      "outputs": []
    },
    {
      "cell_type": "code",
      "execution_count": null,
      "id": "bceb3204-2a87-4671-8135-2533a7a51771",
      "metadata": {
        "id": "bceb3204-2a87-4671-8135-2533a7a51771"
      },
      "outputs": [],
      "source": [
        "#If th openai api key is not set already, please set it here.\n",
        "import os\n",
        "if 'OPENAI_API_KEY' not in os.environ:\n",
        "     os.environ['OPENAI_API_KEY'] = mykey\n",
        "amadeusgpt.__file__"
      ]
    },
    {
      "cell_type": "code",
      "execution_count": null,
      "id": "1b8da600",
      "metadata": {
        "id": "1b8da600"
      },
      "outputs": [],
      "source": [
        "%matplotlib widget\n",
        "from amadeusgpt import AMADEUS\n",
        "import amadeusgpt\n",
        "from pathlib import Path\n",
        "import amadeusgpt\n",
        "from amadeusgpt.utils import parse_result\n",
        "from amadeusgpt import create_project"
      ]
    },
    {
      "cell_type": "markdown",
      "source": [
        "## Please upload the demo video and associated files:\n",
        "- you can grab it from here: https://github.com/AdaptiveMotorControlLab/AmadeusGPT/tree/mwm/docs/examples/EPM\n"
      ],
      "metadata": {
        "id": "ouLH5-MpmPsu"
      },
      "id": "ouLH5-MpmPsu"
    },
    {
      "cell_type": "code",
      "source": [
        "from google.colab import files\n",
        "\n",
        "uploaded = files.upload()\n",
        "for filepath, content in uploaded.items():\n",
        "  print(f'User uploaded file \"{filepath}\" with length {len(content)} bytes')\n",
        "\n",
        "video_path = Path(filepath).resolve()"
      ],
      "metadata": {
        "id": "uxmS4XwSmQFP"
      },
      "id": "uxmS4XwSmQFP",
      "execution_count": null,
      "outputs": []
    },
    {
      "cell_type": "markdown",
      "id": "2c861a70",
      "metadata": {
        "id": "2c861a70"
      },
      "source": [
        "- Set the scene number to visualize your video in a specific frame\n",
        "\n",
        "- 🔥 Make sure your animal(s) are visible on that frame so gpt-4o can configure AmadeusGPT correctly"
      ]
    },
    {
      "cell_type": "code",
      "execution_count": null,
      "id": "94210808-364c-44a9-a548-b600e75c5c25",
      "metadata": {
        "id": "94210808-364c-44a9-a548-b600e75c5c25"
      },
      "outputs": [],
      "source": [
        "scene_frame_number = 400\n",
        "amadeus_root = Path(amadeusgpt.__file__).parent.parent\n",
        "\n",
        "kwargs = {\n",
        "    \"keypoint_info.body_orientation_keypoints.neck\" : \"nose\",\n",
        "    \"keypoint_info.body_orientation_keypoints.tail_base\" : \"tail_base\",\n",
        "    \"keypoint_info.body_orientation_keypoints.animal_center\" : \"neck\",\n",
        "    \"keypoint_info.head_orientation_keypoints.nose\" : \"nose\",\n",
        "    \"keypoint_info.head_orientation_keypoints.neck\" : \"neck\",\n",
        "    \"video_info.scene_frame_number\" : scene_frame_number,\n",
        "}\n",
        "\n",
        "config = create_project(data_folder = \"../content\", # if you use locally: \"../examples/EPM\"\n",
        "                        result_folder = \"EPM_results\",\n",
        "                        **kwargs\n",
        "                        )\n",
        "amadeus = AMADEUS(config, use_vlm=True)\n",
        "video_file_paths = amadeus.get_video_file_paths()\n",
        "print (video_file_paths)"
      ]
    },
    {
      "cell_type": "markdown",
      "source": [
        "#### 🚨 warning, if you see an error `AttributeError: 'NoneType' object has no attribute 'choices'`, look above for openAI errors"
      ],
      "metadata": {
        "id": "NG15yauFo6rN"
      },
      "id": "NG15yauFo6rN"
    },
    {
      "cell_type": "markdown",
      "id": "e0c27287",
      "metadata": {
        "id": "e0c27287"
      },
      "source": [
        "## Draw ROIs. Press Esc when you are done drawing each ROI.\n",
        "- After you are done just run the next cell!"
      ]
    },
    {
      "cell_type": "code",
      "execution_count": null,
      "id": "4770c747-c426-4f99-847e-f853c1d32d20",
      "metadata": {
        "id": "4770c747-c426-4f99-847e-f853c1d32d20"
      },
      "outputs": [],
      "source": [
        "behavior_analysis = amadeus.get_behavior_analysis('../content/EPM_11.mp4') #check the path!\n",
        "behavior_analysis.gui_manager.add_roi_from_video_selection()"
      ]
    },
    {
      "cell_type": "markdown",
      "id": "d2257d16",
      "metadata": {
        "id": "d2257d16"
      },
      "source": [
        "### Get video clips, ethogram and trajectory plots for mouse in the ROI 0"
      ]
    },
    {
      "cell_type": "code",
      "execution_count": null,
      "id": "b58bf7af-b75b-4fe5-a422-8fe55aa226ad",
      "metadata": {
        "id": "b58bf7af-b75b-4fe5-a422-8fe55aa226ad"
      },
      "outputs": [],
      "source": [
        "query = \"When is the mouse in ROI0\"\n",
        "qa_message = amadeus.step(query)\n",
        "qa_message = parse_result(amadeus, qa_message)"
      ]
    },
    {
      "cell_type": "markdown",
      "id": "9773a5b2",
      "metadata": {
        "id": "9773a5b2"
      },
      "source": [
        "### You can get a list of binary masks (equivalent to ethogram) for the underlying behavior, if your query is about retriving a described behavior"
      ]
    },
    {
      "cell_type": "code",
      "execution_count": null,
      "id": "496beae7",
      "metadata": {
        "id": "496beae7"
      },
      "outputs": [],
      "source": [
        "# the return masks is of shape (num_of_events, video_length)\n",
        "# where each boolean array of (video_length,) is binary where True indicates whether the behavior is happening at that frame\n",
        "masks = qa_message.get_masks()\n",
        "print (masks)"
      ]
    },
    {
      "cell_type": "code",
      "execution_count": null,
      "id": "d28b3f10-ecba-4ecf-a283-142d2d43ea8f",
      "metadata": {
        "id": "d28b3f10-ecba-4ecf-a283-142d2d43ea8f"
      },
      "outputs": [],
      "source": [
        "query = \"Plot the trajectory of the animal using the animal center and color it by time\"\n",
        "qa_message = amadeus.step(query)\n",
        "qa_message = parse_result(amadeus, qa_message)"
      ]
    },
    {
      "cell_type": "markdown",
      "id": "3a83f2ea",
      "metadata": {
        "id": "3a83f2ea"
      },
      "source": [
        "### How to retrieve results using the query"
      ]
    },
    {
      "cell_type": "code",
      "execution_count": null,
      "id": "6c2f1dfd",
      "metadata": {
        "id": "6c2f1dfd"
      },
      "outputs": [],
      "source": [
        "messages = amadeus.get_messages()\n",
        "\n",
        "for query, qa_message in messages.items():\n",
        "    print (query)\n",
        "    print (qa_message.get_masks())"
      ]
    }
  ],
  "metadata": {
    "kernelspec": {
      "display_name": "amadeusgpt-cpu",
      "language": "python",
      "name": "amadeusgpt-cpu"
    },
    "language_info": {
      "codemirror_mode": {
        "name": "ipython",
        "version": 3
      },
      "file_extension": ".py",
      "mimetype": "text/x-python",
      "name": "python",
      "nbconvert_exporter": "python",
      "pygments_lexer": "ipython3",
      "version": "3.10.0"
    },
    "colab": {
      "provenance": []
    }
  },
  "nbformat": 4,
  "nbformat_minor": 5
}