{
 "cells": [
  {
   "cell_type": "code",
   "execution_count": null,
   "id": "5fbc36a0",
   "metadata": {},
   "outputs": [],
   "source": [
    "#If th openai api key is not set already, please set it here.\n",
    "import os\n",
    "if 'OPENAI_API_KEY' not in os.environ:  \n",
    "     os.environ['OPENAI_API_KEY'] = 'your key'"
   ]
  },
  {
   "cell_type": "code",
   "execution_count": null,
   "id": "bceb3204-2a87-4671-8135-2533a7a51771",
   "metadata": {},
   "outputs": [],
   "source": [
    "import matplotlib\n",
    "%matplotlib widget\n",
    "from amadeusgpt import AMADEUS\n",
    "import amadeusgpt\n",
    "from pathlib import Path\n",
    "from amadeusgpt.utils import parse_result\n",
    "from amadeusgpt import create_project"
   ]
  },
  {
   "cell_type": "code",
   "execution_count": null,
   "id": "94210808-364c-44a9-a548-b600e75c5c25",
   "metadata": {},
   "outputs": [],
   "source": [
    "scene_frame_number = 400\n",
    "amadeus_root = Path(amadeusgpt.__file__).parent.parent\n",
    "\n",
    "kwargs = {\n",
    "    \"keypoint_info.body_orientation_keypoints.neck\" : \"nose\",\n",
    "    \"keypoint_info.body_orientation_keypoints.tail_base\" : \"tail_base\",\n",
    "    \"keypoint_info.body_orientation_keypoints.animal_center\" : \"neck\",\n",
    "    \"keypoint_info.head_orientation_keypoints.nose\" : \"nose\",\n",
    "    \"keypoint_info.head_orientation_keypoints.neck\" : \"neck\",\n",
    "    \"video_info.scene_frame_number\" : 100,\n",
    "}\n",
    "\n",
    "config = create_project(data_folder = \"../examples/MausHaus\",\n",
    "                        result_folder = \"results\",\n",
    "                        **kwargs\n",
    "                        )\n",
    "\n",
    "amadeus = AMADEUS(config, use_vlm = True)\n",
    "video_file_paths = amadeus.get_video_file_paths()\n",
    "print (video_file_paths)   "
   ]
  },
  {
   "cell_type": "code",
   "execution_count": null,
   "id": "be76dc87-fbe8-452f-b85c-2af3e95a03bf",
   "metadata": {},
   "outputs": [],
   "source": [
    "behavior_analysis = amadeus.get_behavior_analysis(video_file_path='../examples/MausHaus/maushaus_trimmed.mp4',\n",
    "                                                  keypoint_file_path='../examples/MausHaus/maushaus_trimmed.h5')\n",
    "\n",
    "behavior_analysis.gui_manager.add_roi_from_video_selection()"
   ]
  },
  {
   "cell_type": "markdown",
   "id": "377b6a25",
   "metadata": {},
   "source": [
    "### Draw ROIs. Press Esc when you are done drawing each ROI"
   ]
  },
  {
   "cell_type": "code",
   "execution_count": null,
   "id": "4be66a44",
   "metadata": {},
   "outputs": [],
   "source": [
    "behavior_analysis.gui_manager.add_roi_from_video_selection()"
   ]
  },
  {
   "cell_type": "code",
   "execution_count": null,
   "id": "d28b3f10-ecba-4ecf-a283-142d2d43ea8f",
   "metadata": {},
   "outputs": [],
   "source": [
    "query = \"Plot the trajectory of the animal using the animal center and color it by time\"\n",
    "qa_message = amadeus.step(query)\n",
    "qa_message = parse_result(amadeus, qa_message)"
   ]
  },
  {
   "cell_type": "code",
   "execution_count": null,
   "id": "e446b66d-a791-4f18-9a72-8542f4a83081",
   "metadata": {},
   "outputs": [],
   "source": [
    "query = \"When does the mouse move from ROI0 to ROI1?\"\n",
    "qa_message = amadeus.step(query)\n",
    "qa_message = parse_result(amadeus, qa_message)"
   ]
  },
  {
   "cell_type": "markdown",
   "id": "539b0cde",
   "metadata": {},
   "source": [
    "### For a sequential event such as moving from ROI0 to ROI1, you will perhaps need to describe the interval between two events. If you got empty events above, try this below"
   ]
  },
  {
   "cell_type": "code",
   "execution_count": null,
   "id": "183f17a3",
   "metadata": {},
   "outputs": [],
   "source": [
    "query = \"When does the mouse move from ROI0 to ROI1. The interval should be less than 100 frames\"\n",
    "qa_message = amadeus.step(query)\n",
    "qa_message = parse_result(amadeus, qa_message)"
   ]
  },
  {
   "cell_type": "markdown",
   "id": "4e84e560",
   "metadata": {},
   "source": [
    "### You can get a list of binary masks (equivalent to ethogram) for the underlying behavior, if your query is about retriving a described behavior"
   ]
  },
  {
   "cell_type": "code",
   "execution_count": null,
   "id": "08afd26a",
   "metadata": {},
   "outputs": [],
   "source": [
    "# the return masks is of shape (num_of_events, video_length)\n",
    "# where each boolean array of (video_length,) is binary where True indicates whether the behavior is happening at that frame\n",
    "masks = qa_message.get_masks()\n",
    "print (masks)"
   ]
  },
  {
   "cell_type": "code",
   "execution_count": null,
   "id": "c9a3a069",
   "metadata": {},
   "outputs": [],
   "source": []
  }
 ],
 "metadata": {
  "kernelspec": {
   "display_name": "amadeusgpt-minimal",
   "language": "python",
   "name": "python3"
  },
  "language_info": {
   "codemirror_mode": {
    "name": "ipython",
    "version": 3
   },
   "file_extension": ".py",
   "mimetype": "text/x-python",
   "name": "python",
   "nbconvert_exporter": "python",
   "pygments_lexer": "ipython3",
   "version": "3.10.0"
  }
 },
 "nbformat": 4,
 "nbformat_minor": 5
}
