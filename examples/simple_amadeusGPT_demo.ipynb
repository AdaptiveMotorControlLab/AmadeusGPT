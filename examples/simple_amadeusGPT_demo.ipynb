{
 "cells": [
  {
   "cell_type": "markdown",
   "id": "9261735c-da87-4f50-83cf-f478ad144d54",
   "metadata": {},
   "source": [
    "# Welcome 👋 AmadeusGPT🎻 Demo\n",
    "- this notebook shows you how to get started with a simple AmadeusGPT example."
   ]
  },
  {
   "cell_type": "markdown",
   "id": "1e3b5570-2e6c-49a1-a83f-c09abf778ced",
   "metadata": {},
   "source": [
    "### Import needed Pythonlibraries"
   ]
  },
  {
   "cell_type": "code",
   "execution_count": null,
   "id": "58144f1d-2002-4185-8cde-d27e75b02894",
   "metadata": {},
   "outputs": [],
   "source": [
    "import matplotlib\n",
    "import matplotlib.pyplot as plt\n",
    "import numpy as np\n",
    "import os\n",
    "import ipywidgets as widgets\n",
    "from IPython.display import display\n"
   ]
  },
  {
   "cell_type": "markdown",
   "id": "58a62741",
   "metadata": {},
   "source": [
    "### Set up the API key: "
   ]
  },
  {
   "cell_type": "code",
   "execution_count": null,
   "id": "4680b6f8",
   "metadata": {},
   "outputs": [],
   "source": [
    "if 'OPENAI_API_KEY' not in os.environ:\n",
    "    os.environ['OPENAI_API_KEY'] = 'ENTER_YOUR_API_KEY_HERE'\n",
    "import openai\n"
   ]
  },
  {
   "cell_type": "code",
   "execution_count": null,
   "id": "ce85770c-03fa-47c4-abb1-c73ce87e9ba1",
   "metadata": {},
   "outputs": [],
   "source": [
    "import amadeusgpt\n",
    "from amadeusgpt import AMADEUS, AnimalBehaviorAnalysis"
   ]
  },
  {
   "cell_type": "markdown",
   "id": "d48774d8",
   "metadata": {},
   "source": [
    "### Select a ChatGPT backend"
   ]
  },
  {
   "cell_type": "code",
   "execution_count": null,
   "id": "66d72f43",
   "metadata": {},
   "outputs": [],
   "source": [
    "amadeusgpt.brains.base.BaseBrain.gpt_model = 'gpt-4-1106-preview'\n",
    "\n",
    "dropdown = widgets.Dropdown(\n",
    "    options=['gpt-4-1106-preview', 'gpt-3.5-turbo-1106'],\n",
    "    description='Select Model:',\n",
    "    value=\"gpt-4-1106-preview\",\n",
    "    disabled=False,\n",
    ")\n",
    "def dropdown_eventhandler(change):   \n",
    "    print(f'The GPT model you selected is {change.new}')\n",
    "    amadeusgpt.brains.base.BaseBrain.gpt_model = change.new\n",
    "\n",
    "dropdown.observe(dropdown_eventhandler, names='value')\n",
    "\n",
    "# Display the dropdown\n",
    "display(dropdown)\n",
    "\n",
    "print(f'The GPT model you will use is {amadeusgpt.brains.base.BaseBrain.gpt_model}')"
   ]
  },
  {
   "cell_type": "markdown",
   "id": "cb0825c6-f418-472b-b94d-21ee5d1db1cc",
   "metadata": {},
   "source": [
    "## We use demo data from the AmadeusGPT github repo, but you can use your own\n",
    "- To use your own, change the paths!\n",
    "- To use our data, git clone the repo, and head to the examples folder. Tip: you can use `%ls` to see where you are, and use `%cd` to change directories"
   ]
  },
  {
   "cell_type": "code",
   "execution_count": null,
   "id": "34d655d3-9012-4a9c-835b-f8aceaf57fdc",
   "metadata": {},
   "outputs": [],
   "source": [
    "cur_dir = os.getcwd()\n",
    "\n",
    "video_file_path = os.path.join(cur_dir,'EPM/EPM_11DLC_snapshot-1000_labeled_x264.mp4')\n",
    "keypoint_file_path = os.path.join(cur_dir,'EPM/EPM_11DLC_snapshot-1000.h5')\n",
    "\n"
   ]
  },
  {
   "cell_type": "markdown",
   "id": "d714f642-d03f-4284-bb1b-5a925e8c0a9a",
   "metadata": {},
   "source": [
    "### Set up AmadeusGPT with the data:"
   ]
  },
  {
   "cell_type": "code",
   "execution_count": null,
   "id": "1a1ac7be-4770-4aa9-a58e-b16af7ae54f2",
   "metadata": {},
   "outputs": [],
   "source": [
    "AnimalBehaviorAnalysis.set_video_file_path(video_file_path)\n",
    "AnimalBehaviorAnalysis.set_keypoint_file_path(keypoint_file_path)"
   ]
  },
  {
   "cell_type": "markdown",
   "id": "90266f04-04d1-4ca6-8674-165ba95001fc",
   "metadata": {},
   "source": [
    "### Define outputs:"
   ]
  },
  {
   "cell_type": "code",
   "execution_count": null,
   "id": "bf9ea1c7-8bf6-4319-ac09-29d59c2944ee",
   "metadata": {},
   "outputs": [],
   "source": [
    "def render(amadeus_answer):\n",
    "    render_keys = ['error_function_code', 'error_message', 'chain_of_thoughts', 'plots', 'str_answer', 'ndarray', 'summary']\n",
    "    for render_key in render_keys:\n",
    "        render_value = getattr(amadeus_answer,render_key)\n",
    "        if render_value is None:\n",
    "            continue\n",
    "        if render_key != 'plots':\n",
    "            if isinstance(render_value, list):\n",
    "                for e in render_value:\n",
    "                    print (e)\n",
    "            else:\n",
    "                print (render_value)\n",
    "    plt.show()\n",
    "    "
   ]
  },
  {
   "cell_type": "markdown",
   "id": "62e4df4e-d788-44e4-9bd7-0e2daa22f22c",
   "metadata": {},
   "source": [
    "## Let's chat with AmadeusGPT🎻"
   ]
  },
  {
   "cell_type": "code",
   "execution_count": null,
   "id": "48eb8e7b-c904-4009-868c-cc6326e44641",
   "metadata": {},
   "outputs": [],
   "source": [
    "query = 'plot the speed of the mouse over time'\n",
    "\n",
    "answer = AMADEUS.chat_iteration(query)\n",
    "render(answer)\n"
   ]
  },
  {
   "cell_type": "code",
   "execution_count": null,
   "id": "c87d5122",
   "metadata": {},
   "outputs": [],
   "source": [
    "query = 'plot the trajectory of the mouse'\n",
    "\n",
    "answer = AMADEUS.chat_iteration(query)\n",
    "render(answer)"
   ]
  },
  {
   "cell_type": "code",
   "execution_count": null,
   "id": "82dada6f",
   "metadata": {},
   "outputs": [],
   "source": []
  }
 ],
 "metadata": {
  "kernelspec": {
   "display_name": "amadeusGPT",
   "language": "python",
   "name": "amadeusgpt"
  },
  "language_info": {
   "codemirror_mode": {
    "name": "ipython",
    "version": 3
   },
   "file_extension": ".py",
   "mimetype": "text/x-python",
   "name": "python",
   "nbconvert_exporter": "python",
   "pygments_lexer": "ipython3",
   "version": "3.9.18"
  }
 },
 "nbformat": 4,
 "nbformat_minor": 5
}
