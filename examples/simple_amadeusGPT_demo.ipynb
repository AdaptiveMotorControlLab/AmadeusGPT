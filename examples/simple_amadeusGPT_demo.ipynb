{
 "cells": [
  {
   "cell_type": "markdown",
   "id": "9261735c-da87-4f50-83cf-f478ad144d54",
   "metadata": {
    "id": "9261735c-da87-4f50-83cf-f478ad144d54"
   },
   "source": [
    "# Welcome 👋 AmadeusGPT🎻 Demo\n",
    "- this notebook shows you how to get started with a simple AmadeusGPT example."
   ]
  },
  {
   "cell_type": "markdown",
   "id": "1e3b5570-2e6c-49a1-a83f-c09abf778ced",
   "metadata": {
    "id": "1e3b5570-2e6c-49a1-a83f-c09abf778ced"
   },
   "source": [
    "### Import needed Pythonlibraries"
   ]
  },
  {
   "cell_type": "code",
   "execution_count": null,
   "id": "jIVQGv8zKJa9",
   "metadata": {
    "colab": {
     "base_uri": "https://localhost:8080/",
     "height": 1000
    },
    "id": "jIVQGv8zKJa9",
    "outputId": "8e0f106f-caa9-44bb-9c3a-a82c0cf461f8"
   },
   "outputs": [],
   "source": [
    "!pip install pip install 'amadeusgpt[streamlit]'"
   ]
  },
  {
   "cell_type": "code",
   "execution_count": null,
   "id": "Mv3-HF_AQscv",
   "metadata": {
    "colab": {
     "base_uri": "https://localhost:8080/"
    },
    "id": "Mv3-HF_AQscv",
    "outputId": "b7ab32b7-05cc-48be-e78a-09bef01bae1c"
   },
   "outputs": [],
   "source": [
    "# comment this if you are not using colab\n",
    "!git clone -b main https://github.com/AdaptiveMotorControlLab/AmadeusGPT"
   ]
  },
  {
   "cell_type": "code",
   "execution_count": null,
   "id": "SB8Z64WXQ4dJ",
   "metadata": {
    "colab": {
     "base_uri": "https://localhost:8080/"
    },
    "id": "SB8Z64WXQ4dJ",
    "outputId": "80214ed8-d3f3-42a4-d0f7-2cd643154828"
   },
   "outputs": [],
   "source": [
    "%cd AmadeusGPT/examples"
   ]
  },
  {
   "cell_type": "code",
   "execution_count": null,
   "id": "58144f1d-2002-4185-8cde-d27e75b02894",
   "metadata": {
    "id": "58144f1d-2002-4185-8cde-d27e75b02894"
   },
   "outputs": [],
   "source": [
    "import matplotlib\n",
    "import matplotlib.pyplot as plt\n",
    "import numpy as np\n",
    "import os\n",
    "import ipywidgets as widgets\n",
    "from IPython.display import display\n"
   ]
  },
  {
   "cell_type": "markdown",
   "id": "58a62741",
   "metadata": {
    "id": "58a62741"
   },
   "source": [
    "### Set up the API key:"
   ]
  },
  {
   "cell_type": "code",
   "execution_count": null,
   "id": "4680b6f8",
   "metadata": {
    "id": "4680b6f8"
   },
   "outputs": [],
   "source": [
    "if 'OPENAI_API_KEY' not in os.environ:\n",
    "    os.environ['OPENAI_API_KEY'] = 'YOUR API KEY'\n",
    "import openai\n"
   ]
  },
  {
   "cell_type": "code",
   "execution_count": null,
   "id": "ce85770c-03fa-47c4-abb1-c73ce87e9ba1",
   "metadata": {
    "colab": {
     "base_uri": "https://localhost:8080/",
     "height": 34
    },
    "id": "ce85770c-03fa-47c4-abb1-c73ce87e9ba1",
    "outputId": "8da4fa52-c43a-442f-977d-6921ac1879b6"
   },
   "outputs": [],
   "source": [
    "import amadeusgpt\n",
    "from amadeusgpt import AMADEUS, AnimalBehaviorAnalysis"
   ]
  },
  {
   "cell_type": "markdown",
   "id": "d48774d8",
   "metadata": {
    "id": "d48774d8"
   },
   "source": [
    "### Select a ChatGPT backend"
   ]
  },
  {
   "cell_type": "code",
   "execution_count": null,
   "id": "66d72f43",
   "metadata": {
    "colab": {
     "base_uri": "https://localhost:8080/",
     "height": 66,
     "referenced_widgets": [
      "db173dd8c16940d1a85c9836c64f0eb8",
      "f0bde02ea13843b49a19d56e06837cd4",
      "2496b5436e9e46e5a59cd64695bd32af"
     ]
    },
    "id": "66d72f43",
    "outputId": "71e36f8b-fcd3-4295-80e2-1060d2bb8766"
   },
   "outputs": [],
   "source": [
    "amadeusgpt.brains.base.BaseBrain.gpt_model = 'gpt-4-1106-preview'\n",
    "\n",
    "dropdown = widgets.Dropdown(\n",
    "    options=['gpt-4-1106-preview', 'gpt-3.5-turbo-1106'],\n",
    "    description='Select Model:',\n",
    "    value=\"gpt-4-1106-preview\",\n",
    "    disabled=False,\n",
    ")\n",
    "def dropdown_eventhandler(change):\n",
    "    print(f'The GPT model you selected is {change.new}')\n",
    "    amadeusgpt.brains.base.BaseBrain.gpt_model = change.new\n",
    "\n",
    "dropdown.observe(dropdown_eventhandler, names='value')\n",
    "\n",
    "# Display the dropdown\n",
    "display(dropdown)\n",
    "\n",
    "print(f'The GPT model you will use is {amadeusgpt.brains.base.BaseBrain.gpt_model}')"
   ]
  },
  {
   "cell_type": "markdown",
   "id": "cb0825c6-f418-472b-b94d-21ee5d1db1cc",
   "metadata": {
    "id": "cb0825c6-f418-472b-b94d-21ee5d1db1cc"
   },
   "source": [
    "## We use demo data from the AmadeusGPT github repo, but you can use your own\n",
    "- To use your own, change the paths!\n",
    "- To use our data, git clone the repo, and head to the examples folder. Tip: you can use `%ls` to see where you are, and use `%cd` to change directories"
   ]
  },
  {
   "cell_type": "code",
   "execution_count": null,
   "id": "34d655d3-9012-4a9c-835b-f8aceaf57fdc",
   "metadata": {
    "colab": {
     "base_uri": "https://localhost:8080/"
    },
    "id": "34d655d3-9012-4a9c-835b-f8aceaf57fdc",
    "outputId": "896bb9f4-2ccd-4d9a-d490-8998f2a47da7"
   },
   "outputs": [],
   "source": [
    "cur_dir = os.getcwd()\n",
    "print (cur_dir)\n",
    "video_file_path = os.path.join(cur_dir,'EPM/EPM_11DLC_snapshot-1000_labeled_x264.mp4')\n",
    "keypoint_file_path = os.path.join(cur_dir,'EPM/EPM_11DLC_snapshot-1000.h5')\n",
    "\n"
   ]
  },
  {
   "cell_type": "markdown",
   "id": "d714f642-d03f-4284-bb1b-5a925e8c0a9a",
   "metadata": {
    "id": "d714f642-d03f-4284-bb1b-5a925e8c0a9a"
   },
   "source": [
    "### Set up AmadeusGPT with the data:"
   ]
  },
  {
   "cell_type": "code",
   "execution_count": null,
   "id": "1a1ac7be-4770-4aa9-a58e-b16af7ae54f2",
   "metadata": {
    "colab": {
     "base_uri": "https://localhost:8080/"
    },
    "id": "1a1ac7be-4770-4aa9-a58e-b16af7ae54f2",
    "outputId": "1b05c630-0dd4-4904-bada-eea8005a57d3"
   },
   "outputs": [],
   "source": [
    "AnimalBehaviorAnalysis.set_video_file_path(video_file_path)\n",
    "AnimalBehaviorAnalysis.set_keypoint_file_path(keypoint_file_path)"
   ]
  },
  {
   "cell_type": "markdown",
   "id": "90266f04-04d1-4ca6-8674-165ba95001fc",
   "metadata": {
    "id": "90266f04-04d1-4ca6-8674-165ba95001fc"
   },
   "source": [
    "### Define outputs:"
   ]
  },
  {
   "cell_type": "code",
   "execution_count": null,
   "id": "bf9ea1c7-8bf6-4319-ac09-29d59c2944ee",
   "metadata": {
    "id": "bf9ea1c7-8bf6-4319-ac09-29d59c2944ee"
   },
   "outputs": [],
   "source": [
    "def render(amadeus_answer):\n",
    "    render_keys = ['error_function_code', 'error_message', 'chain_of_thoughts', 'plots', 'str_answer', 'ndarray', 'summary']\n",
    "    for render_key in render_keys:\n",
    "        render_value = getattr(amadeus_answer,render_key)\n",
    "        if render_value is None:\n",
    "            continue\n",
    "        if render_key != 'plots':\n",
    "            if isinstance(render_value, list):\n",
    "                for e in render_value:\n",
    "                    print (e)\n",
    "            else:\n",
    "                print (render_value)\n",
    "    plt.show()\n"
   ]
  },
  {
   "cell_type": "markdown",
   "id": "62e4df4e-d788-44e4-9bd7-0e2daa22f22c",
   "metadata": {
    "id": "62e4df4e-d788-44e4-9bd7-0e2daa22f22c"
   },
   "source": [
    "## Let's chat with AmadeusGPT🎻"
   ]
  },
  {
   "cell_type": "code",
   "execution_count": null,
   "id": "48eb8e7b-c904-4009-868c-cc6326e44641",
   "metadata": {
    "colab": {
     "base_uri": "https://localhost:8080/",
     "height": 1000
    },
    "id": "48eb8e7b-c904-4009-868c-cc6326e44641",
    "outputId": "9577b1ce-7683-4237-9c55-f58f5252042e"
   },
   "outputs": [],
   "source": [
    "query = 'plot the acceleration of the mouse over time'\n",
    "\n",
    "answer = AMADEUS.chat_iteration(query)\n",
    "render(answer)\n"
   ]
  },
  {
   "cell_type": "code",
   "execution_count": null,
   "id": "c87d5122",
   "metadata": {
    "id": "c87d5122"
   },
   "outputs": [],
   "source": [
    "query = 'plot the trajectory of the mouse'\n",
    "\n",
    "answer = AMADEUS.chat_iteration(query)\n",
    "render(answer)"
   ]
  },
  {
   "cell_type": "code",
   "execution_count": null,
   "id": "82dada6f",
   "metadata": {
    "id": "82dada6f"
   },
   "outputs": [],
   "source": []
  }
 ],
 "metadata": {
  "colab": {
   "provenance": [],
   "toc_visible": true
  },
  "kernelspec": {
   "display_name": "amadeusgpt",
   "language": "python",
   "name": "python3"
  },
  "language_info": {
   "codemirror_mode": {
    "name": "ipython",
    "version": 3
   },
   "file_extension": ".py",
   "mimetype": "text/x-python",
   "name": "python",
   "nbconvert_exporter": "python",
   "pygments_lexer": "ipython3",
   "version": "3.9.19"
  },
  "widgets": {
   "application/vnd.jupyter.widget-state+json": {
    "2496b5436e9e46e5a59cd64695bd32af": {
     "model_module": "@jupyter-widgets/controls",
     "model_module_version": "1.5.0",
     "model_name": "DescriptionStyleModel",
     "state": {
      "_model_module": "@jupyter-widgets/controls",
      "_model_module_version": "1.5.0",
      "_model_name": "DescriptionStyleModel",
      "_view_count": null,
      "_view_module": "@jupyter-widgets/base",
      "_view_module_version": "1.2.0",
      "_view_name": "StyleView",
      "description_width": ""
     }
    },
    "db173dd8c16940d1a85c9836c64f0eb8": {
     "model_module": "@jupyter-widgets/controls",
     "model_module_version": "1.5.0",
     "model_name": "DropdownModel",
     "state": {
      "_dom_classes": [],
      "_model_module": "@jupyter-widgets/controls",
      "_model_module_version": "1.5.0",
      "_model_name": "DropdownModel",
      "_options_labels": [
       "gpt-4-1106-preview",
       "gpt-3.5-turbo-1106"
      ],
      "_view_count": null,
      "_view_module": "@jupyter-widgets/controls",
      "_view_module_version": "1.5.0",
      "_view_name": "DropdownView",
      "description": "Select Model:",
      "description_tooltip": null,
      "disabled": false,
      "index": 0,
      "layout": "IPY_MODEL_f0bde02ea13843b49a19d56e06837cd4",
      "style": "IPY_MODEL_2496b5436e9e46e5a59cd64695bd32af"
     }
    },
    "f0bde02ea13843b49a19d56e06837cd4": {
     "model_module": "@jupyter-widgets/base",
     "model_module_version": "1.2.0",
     "model_name": "LayoutModel",
     "state": {
      "_model_module": "@jupyter-widgets/base",
      "_model_module_version": "1.2.0",
      "_model_name": "LayoutModel",
      "_view_count": null,
      "_view_module": "@jupyter-widgets/base",
      "_view_module_version": "1.2.0",
      "_view_name": "LayoutView",
      "align_content": null,
      "align_items": null,
      "align_self": null,
      "border": null,
      "bottom": null,
      "display": null,
      "flex": null,
      "flex_flow": null,
      "grid_area": null,
      "grid_auto_columns": null,
      "grid_auto_flow": null,
      "grid_auto_rows": null,
      "grid_column": null,
      "grid_gap": null,
      "grid_row": null,
      "grid_template_areas": null,
      "grid_template_columns": null,
      "grid_template_rows": null,
      "height": null,
      "justify_content": null,
      "justify_items": null,
      "left": null,
      "margin": null,
      "max_height": null,
      "max_width": null,
      "min_height": null,
      "min_width": null,
      "object_fit": null,
      "object_position": null,
      "order": null,
      "overflow": null,
      "overflow_x": null,
      "overflow_y": null,
      "padding": null,
      "right": null,
      "top": null,
      "visibility": null,
      "width": null
     }
    }
   }
  }
 },
 "nbformat": 4,
 "nbformat_minor": 5
}
